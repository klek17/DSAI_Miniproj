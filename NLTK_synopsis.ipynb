{
 "cells": [
  {
   "cell_type": "code",
   "execution_count": 1,
   "id": "a39fa107-0881-403d-a535-e4e8fb457210",
   "metadata": {
    "scrolled": true
   },
   "outputs": [
    {
     "name": "stdout",
     "output_type": "stream",
     "text": [
      "Requirement already satisfied: seaborn in /Users/klek/anaconda3/lib/python3.11/site-packages (0.12.2)\n",
      "Requirement already satisfied: numpy!=1.24.0,>=1.17 in /Users/klek/anaconda3/lib/python3.11/site-packages (from seaborn) (1.24.3)\n",
      "Requirement already satisfied: pandas>=0.25 in /Users/klek/anaconda3/lib/python3.11/site-packages (from seaborn) (2.0.3)\n",
      "Requirement already satisfied: matplotlib!=3.6.1,>=3.1 in /Users/klek/anaconda3/lib/python3.11/site-packages (from seaborn) (3.7.2)\n",
      "Requirement already satisfied: contourpy>=1.0.1 in /Users/klek/anaconda3/lib/python3.11/site-packages (from matplotlib!=3.6.1,>=3.1->seaborn) (1.0.5)\n",
      "Requirement already satisfied: cycler>=0.10 in /Users/klek/anaconda3/lib/python3.11/site-packages (from matplotlib!=3.6.1,>=3.1->seaborn) (0.11.0)\n",
      "Requirement already satisfied: fonttools>=4.22.0 in /Users/klek/anaconda3/lib/python3.11/site-packages (from matplotlib!=3.6.1,>=3.1->seaborn) (4.25.0)\n",
      "Requirement already satisfied: kiwisolver>=1.0.1 in /Users/klek/anaconda3/lib/python3.11/site-packages (from matplotlib!=3.6.1,>=3.1->seaborn) (1.4.4)\n",
      "Requirement already satisfied: packaging>=20.0 in /Users/klek/anaconda3/lib/python3.11/site-packages (from matplotlib!=3.6.1,>=3.1->seaborn) (23.1)\n",
      "Requirement already satisfied: pillow>=6.2.0 in /Users/klek/anaconda3/lib/python3.11/site-packages (from matplotlib!=3.6.1,>=3.1->seaborn) (10.0.1)\n",
      "Requirement already satisfied: pyparsing<3.1,>=2.3.1 in /Users/klek/anaconda3/lib/python3.11/site-packages (from matplotlib!=3.6.1,>=3.1->seaborn) (3.0.9)\n",
      "Requirement already satisfied: python-dateutil>=2.7 in /Users/klek/anaconda3/lib/python3.11/site-packages (from matplotlib!=3.6.1,>=3.1->seaborn) (2.8.2)\n",
      "Requirement already satisfied: pytz>=2020.1 in /Users/klek/anaconda3/lib/python3.11/site-packages (from pandas>=0.25->seaborn) (2023.3.post1)\n",
      "Requirement already satisfied: tzdata>=2022.1 in /Users/klek/anaconda3/lib/python3.11/site-packages (from pandas>=0.25->seaborn) (2023.3)\n",
      "Requirement already satisfied: six>=1.5 in /Users/klek/anaconda3/lib/python3.11/site-packages (from python-dateutil>=2.7->matplotlib!=3.6.1,>=3.1->seaborn) (1.16.0)\n"
     ]
    }
   ],
   "source": [
    "!pip install seaborn"
   ]
  },
  {
   "cell_type": "code",
   "execution_count": 2,
   "id": "6f483f70-952f-4046-9e85-a62c0290d5ca",
   "metadata": {},
   "outputs": [
    {
     "name": "stderr",
     "output_type": "stream",
     "text": [
      "2024-04-10 23:56:51.968900: I tensorflow/core/platform/cpu_feature_guard.cc:182] This TensorFlow binary is optimized to use available CPU instructions in performance-critical operations.\n",
      "To enable the following instructions: AVX2 FMA, in other operations, rebuild TensorFlow with the appropriate compiler flags.\n"
     ]
    }
   ],
   "source": [
    "import os\n",
    "import shutil\n",
    "\n",
    "import tensorflow as tf\n",
    "import tensorflow_hub as hub\n",
    "import tensorflow_text as text\n",
    "from official.nlp import optimization  # to create AdamW optimizer\n",
    "import pandas as pd\n",
    "from sklearn.model_selection import train_test_split\n",
    "import matplotlib.pyplot as plt\n",
    "import numpy as np\n",
    "%matplotlib Inline\n",
    "import seaborn as sns"
   ]
  },
  {
   "cell_type": "code",
   "execution_count": 3,
   "id": "384698e3-9ef1-47b5-ac08-3965a7ae5345",
   "metadata": {},
   "outputs": [
    {
     "data": {
      "text/html": [
       "<div>\n",
       "<style scoped>\n",
       "    .dataframe tbody tr th:only-of-type {\n",
       "        vertical-align: middle;\n",
       "    }\n",
       "\n",
       "    .dataframe tbody tr th {\n",
       "        vertical-align: top;\n",
       "    }\n",
       "\n",
       "    .dataframe thead th {\n",
       "        text-align: right;\n",
       "    }\n",
       "</style>\n",
       "<table border=\"1\" class=\"dataframe\">\n",
       "  <thead>\n",
       "    <tr style=\"text-align: right;\">\n",
       "      <th></th>\n",
       "      <th>synopsis</th>\n",
       "      <th>genre</th>\n",
       "    </tr>\n",
       "  </thead>\n",
       "  <tbody>\n",
       "    <tr>\n",
       "      <th>0</th>\n",
       "      <td>Following their participation at the Inter-Hig...</td>\n",
       "      <td>['Comedy', 'Sports', 'Drama', 'School', 'Shoun...</td>\n",
       "    </tr>\n",
       "    <tr>\n",
       "      <th>1</th>\n",
       "      <td>Music accompanies the path of the human metron...</td>\n",
       "      <td>['Drama', 'Music', 'Romance', 'School', 'Shoun...</td>\n",
       "    </tr>\n",
       "    <tr>\n",
       "      <th>2</th>\n",
       "      <td>The Abyss—a gaping chasm stretching down into ...</td>\n",
       "      <td>['Sci-Fi', 'Adventure', 'Mystery', 'Drama', 'F...</td>\n",
       "    </tr>\n",
       "    <tr>\n",
       "      <th>3</th>\n",
       "      <td>\"In order for something to be obtained, someth...</td>\n",
       "      <td>['Action', 'Military', 'Adventure', 'Comedy', ...</td>\n",
       "    </tr>\n",
       "    <tr>\n",
       "      <th>4</th>\n",
       "      <td>After helping revive the legendary vampire Kis...</td>\n",
       "      <td>['Action', 'Mystery', 'Supernatural', 'Vampire']</td>\n",
       "    </tr>\n",
       "  </tbody>\n",
       "</table>\n",
       "</div>"
      ],
      "text/plain": [
       "                                            synopsis  \\\n",
       "0  Following their participation at the Inter-Hig...   \n",
       "1  Music accompanies the path of the human metron...   \n",
       "2  The Abyss—a gaping chasm stretching down into ...   \n",
       "3  \"In order for something to be obtained, someth...   \n",
       "4  After helping revive the legendary vampire Kis...   \n",
       "\n",
       "                                               genre  \n",
       "0  ['Comedy', 'Sports', 'Drama', 'School', 'Shoun...  \n",
       "1  ['Drama', 'Music', 'Romance', 'School', 'Shoun...  \n",
       "2  ['Sci-Fi', 'Adventure', 'Mystery', 'Drama', 'F...  \n",
       "3  ['Action', 'Military', 'Adventure', 'Comedy', ...  \n",
       "4   ['Action', 'Mystery', 'Supernatural', 'Vampire']  "
      ]
     },
     "execution_count": 3,
     "metadata": {},
     "output_type": "execute_result"
    }
   ],
   "source": [
    "df = pd.read_csv('animes.csv',usecols=['synopsis', 'genre'])\n",
    "\n",
    "df.head()"
   ]
  },
  {
   "cell_type": "code",
   "execution_count": 4,
   "id": "dc99952c-c2ed-4e34-b953-d60e55a9eb02",
   "metadata": {},
   "outputs": [
    {
     "name": "stdout",
     "output_type": "stream",
     "text": [
      "<class 'pandas.core.frame.DataFrame'>\n",
      "RangeIndex: 19311 entries, 0 to 19310\n",
      "Data columns (total 2 columns):\n",
      " #   Column    Non-Null Count  Dtype \n",
      "---  ------    --------------  ----- \n",
      " 0   synopsis  18336 non-null  object\n",
      " 1   genre     19311 non-null  object\n",
      "dtypes: object(2)\n",
      "memory usage: 301.9+ KB\n"
     ]
    }
   ],
   "source": [
    "df.info()"
   ]
  },
  {
   "cell_type": "code",
   "execution_count": 5,
   "id": "494bee55-e406-404d-b063-736a747a8fad",
   "metadata": {},
   "outputs": [],
   "source": [
    "df.dropna(subset = ['synopsis'], inplace=True)"
   ]
  },
  {
   "cell_type": "code",
   "execution_count": 6,
   "id": "d2c6ad35-f58c-497b-b849-debb660eb2d7",
   "metadata": {},
   "outputs": [
    {
     "name": "stdout",
     "output_type": "stream",
     "text": [
      "<class 'pandas.core.frame.DataFrame'>\n",
      "Index: 18336 entries, 0 to 19310\n",
      "Data columns (total 2 columns):\n",
      " #   Column    Non-Null Count  Dtype \n",
      "---  ------    --------------  ----- \n",
      " 0   synopsis  18336 non-null  object\n",
      " 1   genre     18336 non-null  object\n",
      "dtypes: object(2)\n",
      "memory usage: 429.8+ KB\n"
     ]
    }
   ],
   "source": [
    "df.info()"
   ]
  },
  {
   "cell_type": "code",
   "execution_count": 7,
   "id": "4f3f49dd-38ca-424b-b2ae-33e0f5d0e550",
   "metadata": {},
   "outputs": [
    {
     "name": "stdout",
     "output_type": "stream",
     "text": [
      "43\n",
      "defaultdict(<function <lambda> at 0x7f8d60c43910>,\n",
      "            {'Action': 4034,\n",
      "             'Adventure': 3036,\n",
      "             'Cars': 128,\n",
      "             'Comedy': 6186,\n",
      "             'Dementia': 405,\n",
      "             'Demons': 577,\n",
      "             'Drama': 2933,\n",
      "             'Ecchi': 784,\n",
      "             'Fantasy': 3259,\n",
      "             'Game': 380,\n",
      "             'Harem': 423,\n",
      "             'Hentai': 2328,\n",
      "             'Historical': 1164,\n",
      "             'Horror': 505,\n",
      "             'Josei': 115,\n",
      "             'Kids': 2354,\n",
      "             'Magic': 1126,\n",
      "             'Martial Arts': 397,\n",
      "             'Mecha': 1146,\n",
      "             'Military': 651,\n",
      "             'Music': 1945,\n",
      "             'Mystery': 849,\n",
      "             'Parody': 680,\n",
      "             'Police': 296,\n",
      "             'Psychological': 412,\n",
      "             'Romance': 2121,\n",
      "             'Samurai': 230,\n",
      "             'School': 1853,\n",
      "             'Sci-Fi': 2731,\n",
      "             'Seinen': 963,\n",
      "             'Shoujo': 774,\n",
      "             'Shoujo Ai': 84,\n",
      "             'Shounen': 2257,\n",
      "             'Shounen Ai': 113,\n",
      "             'Slice of Life': 1969,\n",
      "             'Space': 532,\n",
      "             'Sports': 778,\n",
      "             'Super Power': 695,\n",
      "             'Supernatural': 1682,\n",
      "             'Thriller': 159,\n",
      "             'Vampire': 161,\n",
      "             'Yaoi': 78,\n",
      "             'Yuri': 79})\n"
     ]
    }
   ],
   "source": [
    "#imprinting pprint for pretty printing\n",
    "from pprint import pprint\n",
    "#importing defaultdict\n",
    "from collections import defaultdict\n",
    "#saving total genres here.\n",
    "hash_map = defaultdict(lambda: 0)\n",
    "#saving each row's genre in genrelist\n",
    "genrelist = []\n",
    "for text in df['genre']:\n",
    "    templist = text[2:len(text)-2].split(\"', '\")\n",
    "    for i in range(len(templist)):\n",
    "        if templist[i] == '':\n",
    "            templist.pop(i)\n",
    "            break\n",
    "    genrelist.append(templist)\n",
    "    for j in templist:\n",
    "        hash_map[j] += 1\n",
    "        \n",
    "# Adding genrelist Column\n",
    "df['genrelist'] = genrelist\n",
    "\n",
    "pprint(len(hash_map))\n",
    "pprint(hash_map)"
   ]
  },
  {
   "cell_type": "code",
   "execution_count": 8,
   "id": "a66d8040-2860-4211-9014-d44c4007eeff",
   "metadata": {},
   "outputs": [
    {
     "data": {
      "text/plain": [
       "<Axes: >"
      ]
     },
     "execution_count": 8,
     "metadata": {},
     "output_type": "execute_result"
    },
    {
     "data": {
      "image/png": "[encoded data removed]",
      "text/plain": [
       "<Figure size 1200x600 with 1 Axes>"
      ]
     },
     "metadata": {},
     "output_type": "display_data"
    }
   ],
   "source": [
    "\n",
    "temp = list(hash_map.items())\n",
    "temp.sort(key=lambda x: x[1], reverse=True)\n",
    "plt.rcParams['figure.figsize'] = (12, 6)\n",
    "y,x = [temp[i][0] for i in range(len(temp))], [temp[i][1] for i in range(len(temp))]\n",
    "sns.barplot(x=x, y=y)"
   ]
  },
  {
   "cell_type": "code",
   "execution_count": 9,
   "id": "c3a34a95-2894-4dd4-bde0-2288c96e7a7a",
   "metadata": {},
   "outputs": [],
   "source": [
    "df.drop(columns=['genre'], inplace=True)"
   ]
  },
  {
   "cell_type": "code",
   "execution_count": 10,
   "id": "99896622-3ad3-4e51-9e8f-bceb4aa0a2ca",
   "metadata": {},
   "outputs": [
    {
     "data": {
      "text/html": [
       "<div>\n",
       "<style scoped>\n",
       "    .dataframe tbody tr th:only-of-type {\n",
       "        vertical-align: middle;\n",
       "    }\n",
       "\n",
       "    .dataframe tbody tr th {\n",
       "        vertical-align: top;\n",
       "    }\n",
       "\n",
       "    .dataframe thead th {\n",
       "        text-align: right;\n",
       "    }\n",
       "</style>\n",
       "<table border=\"1\" class=\"dataframe\">\n",
       "  <thead>\n",
       "    <tr style=\"text-align: right;\">\n",
       "      <th></th>\n",
       "      <th>synopsis</th>\n",
       "      <th>genrelist</th>\n",
       "    </tr>\n",
       "  </thead>\n",
       "  <tbody>\n",
       "    <tr>\n",
       "      <th>0</th>\n",
       "      <td>Following their participation at the Inter-Hig...</td>\n",
       "      <td>[Comedy, Sports, Drama, School, Shounen]</td>\n",
       "    </tr>\n",
       "    <tr>\n",
       "      <th>1</th>\n",
       "      <td>Music accompanies the path of the human metron...</td>\n",
       "      <td>[Drama, Music, Romance, School, Shounen]</td>\n",
       "    </tr>\n",
       "    <tr>\n",
       "      <th>2</th>\n",
       "      <td>The Abyss—a gaping chasm stretching down into ...</td>\n",
       "      <td>[Sci-Fi, Adventure, Mystery, Drama, Fantasy]</td>\n",
       "    </tr>\n",
       "    <tr>\n",
       "      <th>3</th>\n",
       "      <td>\"In order for something to be obtained, someth...</td>\n",
       "      <td>[Action, Military, Adventure, Comedy, Drama, M...</td>\n",
       "    </tr>\n",
       "    <tr>\n",
       "      <th>4</th>\n",
       "      <td>After helping revive the legendary vampire Kis...</td>\n",
       "      <td>[Action, Mystery, Supernatural, Vampire]</td>\n",
       "    </tr>\n",
       "    <tr>\n",
       "      <th>...</th>\n",
       "      <td>...</td>\n",
       "      <td>...</td>\n",
       "    </tr>\n",
       "    <tr>\n",
       "      <th>19306</th>\n",
       "      <td>Cocona is an average middle schooler living wi...</td>\n",
       "      <td>[Sci-Fi, Adventure, Comedy, Magic]</td>\n",
       "    </tr>\n",
       "    <tr>\n",
       "      <th>19307</th>\n",
       "      <td>While visiting the National Library, junior-hi...</td>\n",
       "      <td>[Adventure, Fantasy, Magic, Martial Arts, Come...</td>\n",
       "    </tr>\n",
       "    <tr>\n",
       "      <th>19308</th>\n",
       "      <td>Years ago, all of the ghosts in a haunted scho...</td>\n",
       "      <td>[Mystery, Horror, Supernatural]</td>\n",
       "    </tr>\n",
       "    <tr>\n",
       "      <th>19309</th>\n",
       "      <td>Inuyasha and company have finally destroyed Na...</td>\n",
       "      <td>[Action, Adventure, Comedy, Historical, Demons...</td>\n",
       "    </tr>\n",
       "    <tr>\n",
       "      <th>19310</th>\n",
       "      <td>The year is Universal Century 0093. Char Aznab...</td>\n",
       "      <td>[Military, Sci-Fi, Space, Drama, Mecha]</td>\n",
       "    </tr>\n",
       "  </tbody>\n",
       "</table>\n",
       "<p>18336 rows × 2 columns</p>\n",
       "</div>"
      ],
      "text/plain": [
       "                                                synopsis  \\\n",
       "0      Following their participation at the Inter-Hig...   \n",
       "1      Music accompanies the path of the human metron...   \n",
       "2      The Abyss—a gaping chasm stretching down into ...   \n",
       "3      \"In order for something to be obtained, someth...   \n",
       "4      After helping revive the legendary vampire Kis...   \n",
       "...                                                  ...   \n",
       "19306  Cocona is an average middle schooler living wi...   \n",
       "19307  While visiting the National Library, junior-hi...   \n",
       "19308  Years ago, all of the ghosts in a haunted scho...   \n",
       "19309  Inuyasha and company have finally destroyed Na...   \n",
       "19310  The year is Universal Century 0093. Char Aznab...   \n",
       "\n",
       "                                               genrelist  \n",
       "0               [Comedy, Sports, Drama, School, Shounen]  \n",
       "1               [Drama, Music, Romance, School, Shounen]  \n",
       "2           [Sci-Fi, Adventure, Mystery, Drama, Fantasy]  \n",
       "3      [Action, Military, Adventure, Comedy, Drama, M...  \n",
       "4               [Action, Mystery, Supernatural, Vampire]  \n",
       "...                                                  ...  \n",
       "19306                 [Sci-Fi, Adventure, Comedy, Magic]  \n",
       "19307  [Adventure, Fantasy, Magic, Martial Arts, Come...  \n",
       "19308                    [Mystery, Horror, Supernatural]  \n",
       "19309  [Action, Adventure, Comedy, Historical, Demons...  \n",
       "19310            [Military, Sci-Fi, Space, Drama, Mecha]  \n",
       "\n",
       "[18336 rows x 2 columns]"
      ]
     },
     "execution_count": 10,
     "metadata": {},
     "output_type": "execute_result"
    }
   ],
   "source": [
    "df"
   ]
  },
  {
   "cell_type": "code",
   "execution_count": 11,
   "id": "d22c3a7f-9187-43dc-a0f8-380ae5b95886",
   "metadata": {},
   "outputs": [],
   "source": [
    "import re\n",
    "\n",
    "# Function for cleaning the text\n",
    "def clean_text(text):\n",
    "    text = re.sub('\\'', \"\", text)\n",
    "    text = re.sub('[^a-zA-Z]', \" \", text)\n",
    "    text = ' '.join(text.split())\n",
    "    text = text.lower()\n",
    "    return text"
   ]
  },
  {
   "cell_type": "code",
   "execution_count": 12,
   "id": "8a5794d0-4051-41f7-9781-1da9f47e3b68",
   "metadata": {},
   "outputs": [
    {
     "data": {
      "text/html": [
       "<div>\n",
       "<style scoped>\n",
       "    .dataframe tbody tr th:only-of-type {\n",
       "        vertical-align: middle;\n",
       "    }\n",
       "\n",
       "    .dataframe tbody tr th {\n",
       "        vertical-align: top;\n",
       "    }\n",
       "\n",
       "    .dataframe thead th {\n",
       "        text-align: right;\n",
       "    }\n",
       "</style>\n",
       "<table border=\"1\" class=\"dataframe\">\n",
       "  <thead>\n",
       "    <tr style=\"text-align: right;\">\n",
       "      <th></th>\n",
       "      <th>synopsis</th>\n",
       "      <th>genrelist</th>\n",
       "      <th>cleaned_syn</th>\n",
       "    </tr>\n",
       "  </thead>\n",
       "  <tbody>\n",
       "    <tr>\n",
       "      <th>0</th>\n",
       "      <td>Following their participation at the Inter-Hig...</td>\n",
       "      <td>[Comedy, Sports, Drama, School, Shounen]</td>\n",
       "      <td>following their participation at the inter hig...</td>\n",
       "    </tr>\n",
       "    <tr>\n",
       "      <th>1</th>\n",
       "      <td>Music accompanies the path of the human metron...</td>\n",
       "      <td>[Drama, Music, Romance, School, Shounen]</td>\n",
       "      <td>music accompanies the path of the human metron...</td>\n",
       "    </tr>\n",
       "    <tr>\n",
       "      <th>2</th>\n",
       "      <td>The Abyss—a gaping chasm stretching down into ...</td>\n",
       "      <td>[Sci-Fi, Adventure, Mystery, Drama, Fantasy]</td>\n",
       "      <td>the abyss a gaping chasm stretching down into ...</td>\n",
       "    </tr>\n",
       "    <tr>\n",
       "      <th>3</th>\n",
       "      <td>\"In order for something to be obtained, someth...</td>\n",
       "      <td>[Action, Military, Adventure, Comedy, Drama, M...</td>\n",
       "      <td>in order for something to be obtained somethin...</td>\n",
       "    </tr>\n",
       "    <tr>\n",
       "      <th>4</th>\n",
       "      <td>After helping revive the legendary vampire Kis...</td>\n",
       "      <td>[Action, Mystery, Supernatural, Vampire]</td>\n",
       "      <td>after helping revive the legendary vampire kis...</td>\n",
       "    </tr>\n",
       "    <tr>\n",
       "      <th>...</th>\n",
       "      <td>...</td>\n",
       "      <td>...</td>\n",
       "      <td>...</td>\n",
       "    </tr>\n",
       "    <tr>\n",
       "      <th>19306</th>\n",
       "      <td>Cocona is an average middle schooler living wi...</td>\n",
       "      <td>[Sci-Fi, Adventure, Comedy, Magic]</td>\n",
       "      <td>cocona is an average middle schooler living wi...</td>\n",
       "    </tr>\n",
       "    <tr>\n",
       "      <th>19307</th>\n",
       "      <td>While visiting the National Library, junior-hi...</td>\n",
       "      <td>[Adventure, Fantasy, Magic, Martial Arts, Come...</td>\n",
       "      <td>while visiting the national library junior hig...</td>\n",
       "    </tr>\n",
       "    <tr>\n",
       "      <th>19308</th>\n",
       "      <td>Years ago, all of the ghosts in a haunted scho...</td>\n",
       "      <td>[Mystery, Horror, Supernatural]</td>\n",
       "      <td>years ago all of the ghosts in a haunted schoo...</td>\n",
       "    </tr>\n",
       "    <tr>\n",
       "      <th>19309</th>\n",
       "      <td>Inuyasha and company have finally destroyed Na...</td>\n",
       "      <td>[Action, Adventure, Comedy, Historical, Demons...</td>\n",
       "      <td>inuyasha and company have finally destroyed na...</td>\n",
       "    </tr>\n",
       "    <tr>\n",
       "      <th>19310</th>\n",
       "      <td>The year is Universal Century 0093. Char Aznab...</td>\n",
       "      <td>[Military, Sci-Fi, Space, Drama, Mecha]</td>\n",
       "      <td>the year is universal century char aznable has...</td>\n",
       "    </tr>\n",
       "  </tbody>\n",
       "</table>\n",
       "<p>18336 rows × 3 columns</p>\n",
       "</div>"
      ],
      "text/plain": [
       "                                                synopsis  \\\n",
       "0      Following their participation at the Inter-Hig...   \n",
       "1      Music accompanies the path of the human metron...   \n",
       "2      The Abyss—a gaping chasm stretching down into ...   \n",
       "3      \"In order for something to be obtained, someth...   \n",
       "4      After helping revive the legendary vampire Kis...   \n",
       "...                                                  ...   \n",
       "19306  Cocona is an average middle schooler living wi...   \n",
       "19307  While visiting the National Library, junior-hi...   \n",
       "19308  Years ago, all of the ghosts in a haunted scho...   \n",
       "19309  Inuyasha and company have finally destroyed Na...   \n",
       "19310  The year is Universal Century 0093. Char Aznab...   \n",
       "\n",
       "                                               genrelist  \\\n",
       "0               [Comedy, Sports, Drama, School, Shounen]   \n",
       "1               [Drama, Music, Romance, School, Shounen]   \n",
       "2           [Sci-Fi, Adventure, Mystery, Drama, Fantasy]   \n",
       "3      [Action, Military, Adventure, Comedy, Drama, M...   \n",
       "4               [Action, Mystery, Supernatural, Vampire]   \n",
       "...                                                  ...   \n",
       "19306                 [Sci-Fi, Adventure, Comedy, Magic]   \n",
       "19307  [Adventure, Fantasy, Magic, Martial Arts, Come...   \n",
       "19308                    [Mystery, Horror, Supernatural]   \n",
       "19309  [Action, Adventure, Comedy, Historical, Demons...   \n",
       "19310            [Military, Sci-Fi, Space, Drama, Mecha]   \n",
       "\n",
       "                                             cleaned_syn  \n",
       "0      following their participation at the inter hig...  \n",
       "1      music accompanies the path of the human metron...  \n",
       "2      the abyss a gaping chasm stretching down into ...  \n",
       "3      in order for something to be obtained somethin...  \n",
       "4      after helping revive the legendary vampire kis...  \n",
       "...                                                  ...  \n",
       "19306  cocona is an average middle schooler living wi...  \n",
       "19307  while visiting the national library junior hig...  \n",
       "19308  years ago all of the ghosts in a haunted schoo...  \n",
       "19309  inuyasha and company have finally destroyed na...  \n",
       "19310  the year is universal century char aznable has...  \n",
       "\n",
       "[18336 rows x 3 columns]"
      ]
     },
     "execution_count": 12,
     "metadata": {},
     "output_type": "execute_result"
    }
   ],
   "source": [
    "df.loc[:, 'cleaned_syn'] = df.loc[:,'synopsis'].apply(clean_text)\n",
    "df"
   ]
  },
  {
   "cell_type": "code",
   "execution_count": 13,
   "id": "e4c4adda-9039-4fc7-9ac5-907689f90459",
   "metadata": {},
   "outputs": [
    {
     "name": "stderr",
     "output_type": "stream",
     "text": [
      "[nltk_data] Downloading package stopwords to /Users/klek/nltk_data...\n",
      "[nltk_data]   Package stopwords is already up-to-date!\n"
     ]
    },
    {
     "data": {
      "text/plain": [
       "True"
      ]
     },
     "execution_count": 13,
     "metadata": {},
     "output_type": "execute_result"
    }
   ],
   "source": [
    "#importing nltk libraries\n",
    "import nltk\n",
    "from nltk.corpus import stopwords\n",
    "nltk.download('stopwords')"
   ]
  },
  {
   "cell_type": "code",
   "execution_count": 14,
   "id": "6ee3221a-0acc-421b-b8d1-21bd8f8d5841",
   "metadata": {},
   "outputs": [
    {
     "data": {
      "text/html": [
       "<div>\n",
       "<style scoped>\n",
       "    .dataframe tbody tr th:only-of-type {\n",
       "        vertical-align: middle;\n",
       "    }\n",
       "\n",
       "    .dataframe tbody tr th {\n",
       "        vertical-align: top;\n",
       "    }\n",
       "\n",
       "    .dataframe thead th {\n",
       "        text-align: right;\n",
       "    }\n",
       "</style>\n",
       "<table border=\"1\" class=\"dataframe\">\n",
       "  <thead>\n",
       "    <tr style=\"text-align: right;\">\n",
       "      <th></th>\n",
       "      <th>synopsis</th>\n",
       "      <th>genrelist</th>\n",
       "      <th>cleaned_syn</th>\n",
       "    </tr>\n",
       "  </thead>\n",
       "  <tbody>\n",
       "    <tr>\n",
       "      <th>0</th>\n",
       "      <td>Following their participation at the Inter-Hig...</td>\n",
       "      <td>[Comedy, Sports, Drama, School, Shounen]</td>\n",
       "      <td>following participation inter high karasuno hi...</td>\n",
       "    </tr>\n",
       "    <tr>\n",
       "      <th>1</th>\n",
       "      <td>Music accompanies the path of the human metron...</td>\n",
       "      <td>[Drama, Music, Romance, School, Shounen]</td>\n",
       "      <td>music accompanies path human metronome prodigi...</td>\n",
       "    </tr>\n",
       "    <tr>\n",
       "      <th>2</th>\n",
       "      <td>The Abyss—a gaping chasm stretching down into ...</td>\n",
       "      <td>[Sci-Fi, Adventure, Mystery, Drama, Fantasy]</td>\n",
       "      <td>abyss gaping chasm stretching depths earth fil...</td>\n",
       "    </tr>\n",
       "    <tr>\n",
       "      <th>3</th>\n",
       "      <td>\"In order for something to be obtained, someth...</td>\n",
       "      <td>[Action, Military, Adventure, Comedy, Drama, M...</td>\n",
       "      <td>order something obtained something equal value...</td>\n",
       "    </tr>\n",
       "    <tr>\n",
       "      <th>4</th>\n",
       "      <td>After helping revive the legendary vampire Kis...</td>\n",
       "      <td>[Action, Mystery, Supernatural, Vampire]</td>\n",
       "      <td>helping revive legendary vampire kiss shot ace...</td>\n",
       "    </tr>\n",
       "    <tr>\n",
       "      <th>...</th>\n",
       "      <td>...</td>\n",
       "      <td>...</td>\n",
       "      <td>...</td>\n",
       "    </tr>\n",
       "    <tr>\n",
       "      <th>19306</th>\n",
       "      <td>Cocona is an average middle schooler living wi...</td>\n",
       "      <td>[Sci-Fi, Adventure, Comedy, Magic]</td>\n",
       "      <td>cocona average middle schooler living grandmot...</td>\n",
       "    </tr>\n",
       "    <tr>\n",
       "      <th>19307</th>\n",
       "      <td>While visiting the National Library, junior-hi...</td>\n",
       "      <td>[Adventure, Fantasy, Magic, Martial Arts, Come...</td>\n",
       "      <td>visiting national library junior high students...</td>\n",
       "    </tr>\n",
       "    <tr>\n",
       "      <th>19308</th>\n",
       "      <td>Years ago, all of the ghosts in a haunted scho...</td>\n",
       "      <td>[Mystery, Horror, Supernatural]</td>\n",
       "      <td>years ago ghosts haunted schoolhouse banished ...</td>\n",
       "    </tr>\n",
       "    <tr>\n",
       "      <th>19309</th>\n",
       "      <td>Inuyasha and company have finally destroyed Na...</td>\n",
       "      <td>[Action, Adventure, Comedy, Historical, Demons...</td>\n",
       "      <td>inuyasha company finally destroyed naraku star...</td>\n",
       "    </tr>\n",
       "    <tr>\n",
       "      <th>19310</th>\n",
       "      <td>The year is Universal Century 0093. Char Aznab...</td>\n",
       "      <td>[Military, Sci-Fi, Space, Drama, Mecha]</td>\n",
       "      <td>year universal century char aznable taken comm...</td>\n",
       "    </tr>\n",
       "  </tbody>\n",
       "</table>\n",
       "<p>18336 rows × 3 columns</p>\n",
       "</div>"
      ],
      "text/plain": [
       "                                                synopsis  \\\n",
       "0      Following their participation at the Inter-Hig...   \n",
       "1      Music accompanies the path of the human metron...   \n",
       "2      The Abyss—a gaping chasm stretching down into ...   \n",
       "3      \"In order for something to be obtained, someth...   \n",
       "4      After helping revive the legendary vampire Kis...   \n",
       "...                                                  ...   \n",
       "19306  Cocona is an average middle schooler living wi...   \n",
       "19307  While visiting the National Library, junior-hi...   \n",
       "19308  Years ago, all of the ghosts in a haunted scho...   \n",
       "19309  Inuyasha and company have finally destroyed Na...   \n",
       "19310  The year is Universal Century 0093. Char Aznab...   \n",
       "\n",
       "                                               genrelist  \\\n",
       "0               [Comedy, Sports, Drama, School, Shounen]   \n",
       "1               [Drama, Music, Romance, School, Shounen]   \n",
       "2           [Sci-Fi, Adventure, Mystery, Drama, Fantasy]   \n",
       "3      [Action, Military, Adventure, Comedy, Drama, M...   \n",
       "4               [Action, Mystery, Supernatural, Vampire]   \n",
       "...                                                  ...   \n",
       "19306                 [Sci-Fi, Adventure, Comedy, Magic]   \n",
       "19307  [Adventure, Fantasy, Magic, Martial Arts, Come...   \n",
       "19308                    [Mystery, Horror, Supernatural]   \n",
       "19309  [Action, Adventure, Comedy, Historical, Demons...   \n",
       "19310            [Military, Sci-Fi, Space, Drama, Mecha]   \n",
       "\n",
       "                                             cleaned_syn  \n",
       "0      following participation inter high karasuno hi...  \n",
       "1      music accompanies path human metronome prodigi...  \n",
       "2      abyss gaping chasm stretching depths earth fil...  \n",
       "3      order something obtained something equal value...  \n",
       "4      helping revive legendary vampire kiss shot ace...  \n",
       "...                                                  ...  \n",
       "19306  cocona average middle schooler living grandmot...  \n",
       "19307  visiting national library junior high students...  \n",
       "19308  years ago ghosts haunted schoolhouse banished ...  \n",
       "19309  inuyasha company finally destroyed naraku star...  \n",
       "19310  year universal century char aznable taken comm...  \n",
       "\n",
       "[18336 rows x 3 columns]"
      ]
     },
     "execution_count": 14,
     "metadata": {},
     "output_type": "execute_result"
    }
   ],
   "source": [
    "### Python Script to remove stopwords\n",
    "stop_words = set(stopwords.words('english'))\n",
    "stop_words.add('source')\n",
    "words = defaultdict(lambda: 0)\n",
    "def rem_stop(text):\n",
    "    for i in text.split():\n",
    "        new_text = []\n",
    "        if i not in stop_words:\n",
    "            new_text.append(i)\n",
    "            words[i] += 1\n",
    "    new_text = [i for i in text.split() if not i in stop_words]\n",
    "    return ' '.join(new_text)\n",
    "\n",
    "df.loc[:, 'cleaned_syn'] = df.loc[:, 'cleaned_syn'].apply(rem_stop)\n",
    "df"
   ]
  },
  {
   "cell_type": "code",
   "execution_count": 15,
   "id": "ee760ff6-b557-4154-8259-2d17617f8138",
   "metadata": {},
   "outputs": [],
   "source": [
    "tmp = sorted(words, key = lambda x: words[x], reverse = True)"
   ]
  },
  {
   "cell_type": "code",
   "execution_count": 16,
   "id": "5551d37c-0b8c-4418-8b9f-17ea86f11859",
   "metadata": {},
   "outputs": [
    {
     "name": "stdout",
     "output_type": "stream",
     "text": [
      "730171\n"
     ]
    }
   ],
   "source": [
    "#total words\n",
    "values = []\n",
    "for i in tmp:\n",
    "    values.append(words[i])\n",
    "print(sum(values))"
   ]
  },
  {
   "cell_type": "code",
   "execution_count": 17,
   "id": "bdf7921b-1025-4689-9570-3f6760e10ca6",
   "metadata": {},
   "outputs": [
    {
     "data": {
      "text/plain": [
       "<Axes: >"
      ]
     },
     "execution_count": 17,
     "metadata": {},
     "output_type": "execute_result"
    },
    {
     "data": {
      "image/png": "[encoded data removed]",
      "text/plain": [
       "<Figure size 1200x600 with 1 Axes>"
      ]
     },
     "metadata": {},
     "output_type": "display_data"
    }
   ],
   "source": [
    "sns.barplot(x=values[:20], y=tmp[:20])"
   ]
  },
  {
   "cell_type": "code",
   "execution_count": 18,
   "id": "e274da8b",
   "metadata": {},
   "outputs": [
    {
     "name": "stdout",
     "output_type": "stream",
     "text": [
      "Accuracy: 0.1469\n",
      "Precision: 0.5449\n",
      "Recall: 0.6208\n",
      "F1 Score: 0.5804\n",
      "\n",
      "Accuracy: 0.1388\n",
      "Precision: 0.5383\n",
      "Recall: 0.6266\n",
      "F1 Score: 0.5791\n",
      "\n",
      "Accuracy: 0.1464\n",
      "Precision: 0.5366\n",
      "Recall: 0.6188\n",
      "F1 Score: 0.5748\n",
      "\n",
      "Accuracy: 0.1379\n",
      "Precision: 0.5330\n",
      "Recall: 0.6171\n",
      "F1 Score: 0.5720\n",
      "\n",
      "Accuracy: 0.1339\n",
      "Precision: 0.5343\n",
      "Recall: 0.6167\n",
      "F1 Score: 0.5726\n",
      "\n"
     ]
    }
   ],
   "source": [
    "from sklearn.preprocessing import MultiLabelBinarizer\n",
    "from sklearn.model_selection import train_test_split\n",
    "from sklearn.feature_extraction.text import TfidfVectorizer\n",
    "from sklearn.linear_model import LogisticRegression\n",
    "from sklearn.multiclass import OneVsRestClassifier\n",
    "from sklearn.metrics import accuracy_score, precision_score, recall_score, f1_score\n",
    "\n",
    "for _ in range(5):\n",
    "    # Assuming df['genrelist'] contains the multi-label genre information\n",
    "    multilabel_binarizer = MultiLabelBinarizer()\n",
    "    multilabel_binarizer.fit(df['genrelist'])\n",
    "    y = multilabel_binarizer.transform(df['genrelist'])\n",
    "\n",
    "    # Split the data into training and testing sets\n",
    "    xtrain, xtest, ytrain, ytest = train_test_split(df['cleaned_syn'], y, test_size=0.2)\n",
    "\n",
    "    # Initialize and fit the TF-IDF vectorizer\n",
    "    tfidf_vectorizer = TfidfVectorizer(max_df=0.8, max_features=10000)\n",
    "    xtrain_tfidf = tfidf_vectorizer.fit_transform(xtrain)\n",
    "    xtest_tfidf = tfidf_vectorizer.transform(xtest)\n",
    "\n",
    "    # Initialize and train the Logistic Regression classifier\n",
    "    model = LogisticRegression()\n",
    "    classif = OneVsRestClassifier(model)\n",
    "    classif.fit(xtrain_tfidf, ytrain)\n",
    "\n",
    "    # Predict on the test set\n",
    "    y_pred = classif.predict(xtest_tfidf)\n",
    "    y_pred_prob = classif.predict_proba(xtest_tfidf)\n",
    "    y_pred_new = (y_pred_prob >= 0.20).astype(int)\n",
    "\n",
    "    # Calculate evaluation metrics\n",
    "    accuracy = accuracy_score(ytest, y_pred)\n",
    "    precision = precision_score(ytest, y_pred_new, average='micro')\n",
    "    recall = recall_score(ytest, y_pred_new, average='micro')\n",
    "    f1 = f1_score(ytest, y_pred_new, average='micro')\n",
    "\n",
    "    print(f\"Accuracy: {accuracy:.4f}\")\n",
    "    print(f\"Precision: {precision:.4f}\")\n",
    "    print(f\"Recall: {recall:.4f}\")\n",
    "    print(f\"F1 Score: {f1:.4f}\\n\")\n"
   ]
  },
  {
   "cell_type": "code",
   "execution_count": null,
   "id": "96ea0d8e-fafc-4088-9983-930e58b70279",
   "metadata": {},
   "outputs": [],
   "source": []
  }
 ],
 "metadata": {
  "kernelspec": {
   "display_name": "py310",
   "language": "python",
   "name": "py310"
  },
  "language_info": {
   "codemirror_mode": {
    "name": "ipython",
    "version": 3
   },
   "file_extension": ".py",
   "mimetype": "text/x-python",
   "name": "python",
   "nbconvert_exporter": "python",
   "pygments_lexer": "ipython3",
   "version": "3.10.12"
  }
 },
 "nbformat": 4,
 "nbformat_minor": 5
}
