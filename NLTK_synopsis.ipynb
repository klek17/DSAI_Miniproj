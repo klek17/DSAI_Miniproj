{
 "cells": [
  {
   "cell_type": "code",
   "execution_count": 1,
   "id": "a39fa107-0881-403d-a535-e4e8fb457210",
   "metadata": {
    "scrolled": true
   },
   "outputs": [
    {
     "name": "stdout",
     "output_type": "stream",
     "text": [
      "Requirement already satisfied: pandas in c:\\users\\shaun cheong\\anaconda3\\lib\\site-packages (2.0.3)\n",
      "Requirement already satisfied: python-dateutil>=2.8.2 in c:\\users\\shaun cheong\\anaconda3\\lib\\site-packages (from pandas) (2.8.2)\n",
      "Requirement already satisfied: pytz>=2020.1 in c:\\users\\shaun cheong\\anaconda3\\lib\\site-packages (from pandas) (2023.3.post1)\n",
      "Requirement already satisfied: tzdata>=2022.1 in c:\\users\\shaun cheong\\anaconda3\\lib\\site-packages (from pandas) (2023.3)\n",
      "Requirement already satisfied: numpy>=1.21.0 in c:\\users\\shaun cheong\\anaconda3\\lib\\site-packages (from pandas) (1.23.5)\n",
      "Requirement already satisfied: six>=1.5 in c:\\users\\shaun cheong\\anaconda3\\lib\\site-packages (from python-dateutil>=2.8.2->pandas) (1.16.0)\n"
     ]
    }
   ],
   "source": [
    "!pip install pandas"
   ]
  },
  {
   "cell_type": "code",
   "execution_count": 2,
   "id": "6f483f70-952f-4046-9e85-a62c0290d5ca",
   "metadata": {},
   "outputs": [],
   "source": [
    "import os\n",
    "import shutil\n",
    "\n",
    "\n",
    "import pandas as pd\n",
    "from sklearn.model_selection import train_test_split\n",
    "import matplotlib.pyplot as plt\n",
    "import numpy as np\n",
    "%matplotlib Inline\n",
    "import seaborn as sns"
   ]
  },
  {
   "cell_type": "code",
   "execution_count": 3,
   "id": "384698e3-9ef1-47b5-ac08-3965a7ae5345",
   "metadata": {},
   "outputs": [
    {
     "data": {
      "text/html": [
       "<div>\n",
       "<style scoped>\n",
       "    .dataframe tbody tr th:only-of-type {\n",
       "        vertical-align: middle;\n",
       "    }\n",
       "\n",
       "    .dataframe tbody tr th {\n",
       "        vertical-align: top;\n",
       "    }\n",
       "\n",
       "    .dataframe thead th {\n",
       "        text-align: right;\n",
       "    }\n",
       "</style>\n",
       "<table border=\"1\" class=\"dataframe\">\n",
       "  <thead>\n",
       "    <tr style=\"text-align: right;\">\n",
       "      <th></th>\n",
       "      <th>synopsis</th>\n",
       "      <th>genre</th>\n",
       "    </tr>\n",
       "  </thead>\n",
       "  <tbody>\n",
       "    <tr>\n",
       "      <th>0</th>\n",
       "      <td>Following their participation at the Inter-Hig...</td>\n",
       "      <td>['Comedy', 'Sports', 'Drama', 'School', 'Shoun...</td>\n",
       "    </tr>\n",
       "    <tr>\n",
       "      <th>1</th>\n",
       "      <td>Music accompanies the path of the human metron...</td>\n",
       "      <td>['Drama', 'Music', 'Romance', 'School', 'Shoun...</td>\n",
       "    </tr>\n",
       "    <tr>\n",
       "      <th>2</th>\n",
       "      <td>The Abyss—a gaping chasm stretching down into ...</td>\n",
       "      <td>['Sci-Fi', 'Adventure', 'Mystery', 'Drama', 'F...</td>\n",
       "    </tr>\n",
       "    <tr>\n",
       "      <th>3</th>\n",
       "      <td>\"In order for something to be obtained, someth...</td>\n",
       "      <td>['Action', 'Military', 'Adventure', 'Comedy', ...</td>\n",
       "    </tr>\n",
       "    <tr>\n",
       "      <th>4</th>\n",
       "      <td>After helping revive the legendary vampire Kis...</td>\n",
       "      <td>['Action', 'Mystery', 'Supernatural', 'Vampire']</td>\n",
       "    </tr>\n",
       "  </tbody>\n",
       "</table>\n",
       "</div>"
      ],
      "text/plain": [
       "                                            synopsis  \\\n",
       "0  Following their participation at the Inter-Hig...   \n",
       "1  Music accompanies the path of the human metron...   \n",
       "2  The Abyss—a gaping chasm stretching down into ...   \n",
       "3  \"In order for something to be obtained, someth...   \n",
       "4  After helping revive the legendary vampire Kis...   \n",
       "\n",
       "                                               genre  \n",
       "0  ['Comedy', 'Sports', 'Drama', 'School', 'Shoun...  \n",
       "1  ['Drama', 'Music', 'Romance', 'School', 'Shoun...  \n",
       "2  ['Sci-Fi', 'Adventure', 'Mystery', 'Drama', 'F...  \n",
       "3  ['Action', 'Military', 'Adventure', 'Comedy', ...  \n",
       "4   ['Action', 'Mystery', 'Supernatural', 'Vampire']  "
      ]
     },
     "execution_count": 3,
     "metadata": {},
     "output_type": "execute_result"
    }
   ],
   "source": [
    "df = pd.read_csv('animes.csv',usecols=['synopsis', 'genre'])\n",
    "\n",
    "df.head()"
   ]
  },
  {
   "cell_type": "code",
   "execution_count": 4,
   "id": "dc99952c-c2ed-4e34-b953-d60e55a9eb02",
   "metadata": {},
   "outputs": [
    {
     "name": "stdout",
     "output_type": "stream",
     "text": [
      "<class 'pandas.core.frame.DataFrame'>\n",
      "RangeIndex: 19311 entries, 0 to 19310\n",
      "Data columns (total 2 columns):\n",
      " #   Column    Non-Null Count  Dtype \n",
      "---  ------    --------------  ----- \n",
      " 0   synopsis  18336 non-null  object\n",
      " 1   genre     19311 non-null  object\n",
      "dtypes: object(2)\n",
      "memory usage: 301.9+ KB\n"
     ]
    }
   ],
   "source": [
    "df.info()"
   ]
  },
  {
   "cell_type": "code",
   "execution_count": 5,
   "id": "494bee55-e406-404d-b063-736a747a8fad",
   "metadata": {},
   "outputs": [],
   "source": [
    "df.dropna(subset = ['synopsis'], inplace=True)\n",
    "df = df.drop_duplicates(subset = 'synopsis')"
   ]
  },
  {
   "cell_type": "code",
   "execution_count": 6,
   "id": "d2c6ad35-f58c-497b-b849-debb660eb2d7",
   "metadata": {},
   "outputs": [
    {
     "name": "stdout",
     "output_type": "stream",
     "text": [
      "<class 'pandas.core.frame.DataFrame'>\n",
      "Index: 15191 entries, 0 to 19006\n",
      "Data columns (total 2 columns):\n",
      " #   Column    Non-Null Count  Dtype \n",
      "---  ------    --------------  ----- \n",
      " 0   synopsis  15191 non-null  object\n",
      " 1   genre     15191 non-null  object\n",
      "dtypes: object(2)\n",
      "memory usage: 356.0+ KB\n"
     ]
    }
   ],
   "source": [
    "df.info()"
   ]
  },
  {
   "cell_type": "code",
   "execution_count": 7,
   "id": "4f3f49dd-38ca-424b-b2ae-33e0f5d0e550",
   "metadata": {},
   "outputs": [
    {
     "name": "stdout",
     "output_type": "stream",
     "text": [
      "43\n",
      "defaultdict(<function <lambda> at 0x0000016CCB68D3A0>,\n",
      "            {'Action': 3390,\n",
      "             'Adventure': 2614,\n",
      "             'Cars': 110,\n",
      "             'Comedy': 5310,\n",
      "             'Dementia': 344,\n",
      "             'Demons': 428,\n",
      "             'Drama': 2390,\n",
      "             'Ecchi': 718,\n",
      "             'Fantasy': 2764,\n",
      "             'Game': 336,\n",
      "             'Harem': 366,\n",
      "             'Hentai': 1154,\n",
      "             'Historical': 989,\n",
      "             'Horror': 420,\n",
      "             'Josei': 92,\n",
      "             'Kids': 2233,\n",
      "             'Magic': 971,\n",
      "             'Martial Arts': 344,\n",
      "             'Mecha': 1010,\n",
      "             'Military': 518,\n",
      "             'Music': 1800,\n",
      "             'Mystery': 645,\n",
      "             'Parody': 592,\n",
      "             'Police': 232,\n",
      "             'Psychological': 318,\n",
      "             'Romance': 1726,\n",
      "             'Samurai': 187,\n",
      "             'School': 1513,\n",
      "             'Sci-Fi': 2360,\n",
      "             'Seinen': 778,\n",
      "             'Shoujo': 652,\n",
      "             'Shoujo Ai': 72,\n",
      "             'Shounen': 1843,\n",
      "             'Shounen Ai': 88,\n",
      "             'Slice of Life': 1652,\n",
      "             'Space': 451,\n",
      "             'Sports': 641,\n",
      "             'Super Power': 574,\n",
      "             'Supernatural': 1313,\n",
      "             'Thriller': 118,\n",
      "             'Vampire': 133,\n",
      "             'Yaoi': 40,\n",
      "             'Yuri': 39})\n"
     ]
    }
   ],
   "source": [
    "#imprinting pprint for pretty printing\n",
    "from pprint import pprint\n",
    "#importing defaultdict\n",
    "from collections import defaultdict\n",
    "#saving total genres here.\n",
    "hash_map = defaultdict(lambda: 0)\n",
    "#saving each row's genre in genrelist\n",
    "genrelist = []\n",
    "for text in df['genre']:\n",
    "    templist = text[2:len(text)-2].split(\"', '\")\n",
    "    for i in range(len(templist)):\n",
    "        if templist[i] == '':\n",
    "            templist.pop(i)\n",
    "            break\n",
    "    genrelist.append(templist)\n",
    "    for j in templist:\n",
    "        hash_map[j] += 1\n",
    "        \n",
    "# Adding genrelist Column\n",
    "df['genrelist'] = genrelist\n",
    "\n",
    "pprint(len(hash_map))\n",
    "pprint(hash_map)"
   ]
  },
  {
   "cell_type": "code",
   "execution_count": 8,
   "id": "a66d8040-2860-4211-9014-d44c4007eeff",
   "metadata": {},
   "outputs": [
    {
     "data": {
      "text/plain": [
       "<Axes: >"
      ]
     },
     "execution_count": 8,
     "metadata": {},
     "output_type": "execute_result"
    },
    {
     "data": {
      "image/png": "[encoded data removed]",
      "text/plain": [
       "<Figure size 1200x600 with 1 Axes>"
      ]
     },
     "metadata": {},
     "output_type": "display_data"
    }
   ],
   "source": [
    "\n",
    "temp = list(hash_map.items())\n",
    "temp.sort(key=lambda x: x[1], reverse=True)\n",
    "plt.rcParams['figure.figsize'] = (12, 6)\n",
    "y,x = [temp[i][0] for i in range(len(temp))], [temp[i][1] for i in range(len(temp))]\n",
    "sns.barplot(x=x, y=y)"
   ]
  },
  {
   "cell_type": "code",
   "execution_count": 9,
   "id": "c3a34a95-2894-4dd4-bde0-2288c96e7a7a",
   "metadata": {},
   "outputs": [],
   "source": [
    "df.drop(columns=['genre'], inplace=True)"
   ]
  },
  {
   "cell_type": "code",
   "execution_count": 10,
   "id": "99896622-3ad3-4e51-9e8f-bceb4aa0a2ca",
   "metadata": {},
   "outputs": [
    {
     "data": {
      "text/html": [
       "<div>\n",
       "<style scoped>\n",
       "    .dataframe tbody tr th:only-of-type {\n",
       "        vertical-align: middle;\n",
       "    }\n",
       "\n",
       "    .dataframe tbody tr th {\n",
       "        vertical-align: top;\n",
       "    }\n",
       "\n",
       "    .dataframe thead th {\n",
       "        text-align: right;\n",
       "    }\n",
       "</style>\n",
       "<table border=\"1\" class=\"dataframe\">\n",
       "  <thead>\n",
       "    <tr style=\"text-align: right;\">\n",
       "      <th></th>\n",
       "      <th>synopsis</th>\n",
       "      <th>genrelist</th>\n",
       "    </tr>\n",
       "  </thead>\n",
       "  <tbody>\n",
       "    <tr>\n",
       "      <th>0</th>\n",
       "      <td>Following their participation at the Inter-Hig...</td>\n",
       "      <td>[Comedy, Sports, Drama, School, Shounen]</td>\n",
       "    </tr>\n",
       "    <tr>\n",
       "      <th>1</th>\n",
       "      <td>Music accompanies the path of the human metron...</td>\n",
       "      <td>[Drama, Music, Romance, School, Shounen]</td>\n",
       "    </tr>\n",
       "    <tr>\n",
       "      <th>2</th>\n",
       "      <td>The Abyss—a gaping chasm stretching down into ...</td>\n",
       "      <td>[Sci-Fi, Adventure, Mystery, Drama, Fantasy]</td>\n",
       "    </tr>\n",
       "    <tr>\n",
       "      <th>3</th>\n",
       "      <td>\"In order for something to be obtained, someth...</td>\n",
       "      <td>[Action, Military, Adventure, Comedy, Drama, M...</td>\n",
       "    </tr>\n",
       "    <tr>\n",
       "      <th>4</th>\n",
       "      <td>After helping revive the legendary vampire Kis...</td>\n",
       "      <td>[Action, Mystery, Supernatural, Vampire]</td>\n",
       "    </tr>\n",
       "    <tr>\n",
       "      <th>...</th>\n",
       "      <td>...</td>\n",
       "      <td>...</td>\n",
       "    </tr>\n",
       "    <tr>\n",
       "      <th>19002</th>\n",
       "      <td>All-new animation offered throughout UNIQLO cl...</td>\n",
       "      <td>[Action, Comedy, Super Power, Martial Arts, Sh...</td>\n",
       "    </tr>\n",
       "    <tr>\n",
       "      <th>19003</th>\n",
       "      <td>High school student Sora Kashiwagi is accustom...</td>\n",
       "      <td>[Slice of Life, Comedy, Supernatural]</td>\n",
       "    </tr>\n",
       "    <tr>\n",
       "      <th>19004</th>\n",
       "      <td>After regaining her squid-like abilities, Ika ...</td>\n",
       "      <td>[Slice of Life, Comedy, Shounen]</td>\n",
       "    </tr>\n",
       "    <tr>\n",
       "      <th>19005</th>\n",
       "      <td>For years, the Niflheim Empire and the kingdom...</td>\n",
       "      <td>[Action]</td>\n",
       "    </tr>\n",
       "    <tr>\n",
       "      <th>19006</th>\n",
       "      <td>Although Yuuta Togashi and Rikka Takanashi hav...</td>\n",
       "      <td>[Comedy, Drama, Romance, School, Slice of Life]</td>\n",
       "    </tr>\n",
       "  </tbody>\n",
       "</table>\n",
       "<p>15191 rows × 2 columns</p>\n",
       "</div>"
      ],
      "text/plain": [
       "                                                synopsis  \\\n",
       "0      Following their participation at the Inter-Hig...   \n",
       "1      Music accompanies the path of the human metron...   \n",
       "2      The Abyss—a gaping chasm stretching down into ...   \n",
       "3      \"In order for something to be obtained, someth...   \n",
       "4      After helping revive the legendary vampire Kis...   \n",
       "...                                                  ...   \n",
       "19002  All-new animation offered throughout UNIQLO cl...   \n",
       "19003  High school student Sora Kashiwagi is accustom...   \n",
       "19004  After regaining her squid-like abilities, Ika ...   \n",
       "19005  For years, the Niflheim Empire and the kingdom...   \n",
       "19006  Although Yuuta Togashi and Rikka Takanashi hav...   \n",
       "\n",
       "                                               genrelist  \n",
       "0               [Comedy, Sports, Drama, School, Shounen]  \n",
       "1               [Drama, Music, Romance, School, Shounen]  \n",
       "2           [Sci-Fi, Adventure, Mystery, Drama, Fantasy]  \n",
       "3      [Action, Military, Adventure, Comedy, Drama, M...  \n",
       "4               [Action, Mystery, Supernatural, Vampire]  \n",
       "...                                                  ...  \n",
       "19002  [Action, Comedy, Super Power, Martial Arts, Sh...  \n",
       "19003              [Slice of Life, Comedy, Supernatural]  \n",
       "19004                   [Slice of Life, Comedy, Shounen]  \n",
       "19005                                           [Action]  \n",
       "19006    [Comedy, Drama, Romance, School, Slice of Life]  \n",
       "\n",
       "[15191 rows x 2 columns]"
      ]
     },
     "execution_count": 10,
     "metadata": {},
     "output_type": "execute_result"
    }
   ],
   "source": [
    "df"
   ]
  },
  {
   "cell_type": "code",
   "execution_count": 11,
   "id": "d22c3a7f-9187-43dc-a0f8-380ae5b95886",
   "metadata": {},
   "outputs": [],
   "source": [
    "import re\n",
    "\n",
    "# Function for cleaning the text\n",
    "def clean_text(text):\n",
    "    text = re.sub('\\'', \"\", text)\n",
    "    text = re.sub('[^a-zA-Z]', \" \", text)\n",
    "    text = ' '.join(text.split())\n",
    "    text = text.lower()\n",
    "    return text"
   ]
  },
  {
   "cell_type": "code",
   "execution_count": 12,
   "id": "8a5794d0-4051-41f7-9781-1da9f47e3b68",
   "metadata": {},
   "outputs": [
    {
     "data": {
      "text/html": [
       "<div>\n",
       "<style scoped>\n",
       "    .dataframe tbody tr th:only-of-type {\n",
       "        vertical-align: middle;\n",
       "    }\n",
       "\n",
       "    .dataframe tbody tr th {\n",
       "        vertical-align: top;\n",
       "    }\n",
       "\n",
       "    .dataframe thead th {\n",
       "        text-align: right;\n",
       "    }\n",
       "</style>\n",
       "<table border=\"1\" class=\"dataframe\">\n",
       "  <thead>\n",
       "    <tr style=\"text-align: right;\">\n",
       "      <th></th>\n",
       "      <th>synopsis</th>\n",
       "      <th>genrelist</th>\n",
       "      <th>cleaned_syn</th>\n",
       "    </tr>\n",
       "  </thead>\n",
       "  <tbody>\n",
       "    <tr>\n",
       "      <th>0</th>\n",
       "      <td>Following their participation at the Inter-Hig...</td>\n",
       "      <td>[Comedy, Sports, Drama, School, Shounen]</td>\n",
       "      <td>following their participation at the inter hig...</td>\n",
       "    </tr>\n",
       "    <tr>\n",
       "      <th>1</th>\n",
       "      <td>Music accompanies the path of the human metron...</td>\n",
       "      <td>[Drama, Music, Romance, School, Shounen]</td>\n",
       "      <td>music accompanies the path of the human metron...</td>\n",
       "    </tr>\n",
       "    <tr>\n",
       "      <th>2</th>\n",
       "      <td>The Abyss—a gaping chasm stretching down into ...</td>\n",
       "      <td>[Sci-Fi, Adventure, Mystery, Drama, Fantasy]</td>\n",
       "      <td>the abyss a gaping chasm stretching down into ...</td>\n",
       "    </tr>\n",
       "    <tr>\n",
       "      <th>3</th>\n",
       "      <td>\"In order for something to be obtained, someth...</td>\n",
       "      <td>[Action, Military, Adventure, Comedy, Drama, M...</td>\n",
       "      <td>in order for something to be obtained somethin...</td>\n",
       "    </tr>\n",
       "    <tr>\n",
       "      <th>4</th>\n",
       "      <td>After helping revive the legendary vampire Kis...</td>\n",
       "      <td>[Action, Mystery, Supernatural, Vampire]</td>\n",
       "      <td>after helping revive the legendary vampire kis...</td>\n",
       "    </tr>\n",
       "    <tr>\n",
       "      <th>...</th>\n",
       "      <td>...</td>\n",
       "      <td>...</td>\n",
       "      <td>...</td>\n",
       "    </tr>\n",
       "    <tr>\n",
       "      <th>19002</th>\n",
       "      <td>All-new animation offered throughout UNIQLO cl...</td>\n",
       "      <td>[Action, Comedy, Super Power, Martial Arts, Sh...</td>\n",
       "      <td>all new animation offered throughout uniqlo cl...</td>\n",
       "    </tr>\n",
       "    <tr>\n",
       "      <th>19003</th>\n",
       "      <td>High school student Sora Kashiwagi is accustom...</td>\n",
       "      <td>[Slice of Life, Comedy, Supernatural]</td>\n",
       "      <td>high school student sora kashiwagi is accustom...</td>\n",
       "    </tr>\n",
       "    <tr>\n",
       "      <th>19004</th>\n",
       "      <td>After regaining her squid-like abilities, Ika ...</td>\n",
       "      <td>[Slice of Life, Comedy, Shounen]</td>\n",
       "      <td>after regaining her squid like abilities ika m...</td>\n",
       "    </tr>\n",
       "    <tr>\n",
       "      <th>19005</th>\n",
       "      <td>For years, the Niflheim Empire and the kingdom...</td>\n",
       "      <td>[Action]</td>\n",
       "      <td>for years the niflheim empire and the kingdom ...</td>\n",
       "    </tr>\n",
       "    <tr>\n",
       "      <th>19006</th>\n",
       "      <td>Although Yuuta Togashi and Rikka Takanashi hav...</td>\n",
       "      <td>[Comedy, Drama, Romance, School, Slice of Life]</td>\n",
       "      <td>although yuuta togashi and rikka takanashi hav...</td>\n",
       "    </tr>\n",
       "  </tbody>\n",
       "</table>\n",
       "<p>15191 rows × 3 columns</p>\n",
       "</div>"
      ],
      "text/plain": [
       "                                                synopsis  \\\n",
       "0      Following their participation at the Inter-Hig...   \n",
       "1      Music accompanies the path of the human metron...   \n",
       "2      The Abyss—a gaping chasm stretching down into ...   \n",
       "3      \"In order for something to be obtained, someth...   \n",
       "4      After helping revive the legendary vampire Kis...   \n",
       "...                                                  ...   \n",
       "19002  All-new animation offered throughout UNIQLO cl...   \n",
       "19003  High school student Sora Kashiwagi is accustom...   \n",
       "19004  After regaining her squid-like abilities, Ika ...   \n",
       "19005  For years, the Niflheim Empire and the kingdom...   \n",
       "19006  Although Yuuta Togashi and Rikka Takanashi hav...   \n",
       "\n",
       "                                               genrelist  \\\n",
       "0               [Comedy, Sports, Drama, School, Shounen]   \n",
       "1               [Drama, Music, Romance, School, Shounen]   \n",
       "2           [Sci-Fi, Adventure, Mystery, Drama, Fantasy]   \n",
       "3      [Action, Military, Adventure, Comedy, Drama, M...   \n",
       "4               [Action, Mystery, Supernatural, Vampire]   \n",
       "...                                                  ...   \n",
       "19002  [Action, Comedy, Super Power, Martial Arts, Sh...   \n",
       "19003              [Slice of Life, Comedy, Supernatural]   \n",
       "19004                   [Slice of Life, Comedy, Shounen]   \n",
       "19005                                           [Action]   \n",
       "19006    [Comedy, Drama, Romance, School, Slice of Life]   \n",
       "\n",
       "                                             cleaned_syn  \n",
       "0      following their participation at the inter hig...  \n",
       "1      music accompanies the path of the human metron...  \n",
       "2      the abyss a gaping chasm stretching down into ...  \n",
       "3      in order for something to be obtained somethin...  \n",
       "4      after helping revive the legendary vampire kis...  \n",
       "...                                                  ...  \n",
       "19002  all new animation offered throughout uniqlo cl...  \n",
       "19003  high school student sora kashiwagi is accustom...  \n",
       "19004  after regaining her squid like abilities ika m...  \n",
       "19005  for years the niflheim empire and the kingdom ...  \n",
       "19006  although yuuta togashi and rikka takanashi hav...  \n",
       "\n",
       "[15191 rows x 3 columns]"
      ]
     },
     "execution_count": 12,
     "metadata": {},
     "output_type": "execute_result"
    }
   ],
   "source": [
    "df.loc[:, 'cleaned_syn'] = df.loc[:,'synopsis'].apply(clean_text)\n",
    "df"
   ]
  },
  {
   "cell_type": "code",
   "execution_count": 13,
   "id": "e4c4adda-9039-4fc7-9ac5-907689f90459",
   "metadata": {},
   "outputs": [
    {
     "name": "stderr",
     "output_type": "stream",
     "text": [
      "[nltk_data] Downloading package stopwords to C:\\Users\\shaun\n",
      "[nltk_data]     cheong\\AppData\\Roaming\\nltk_data...\n",
      "[nltk_data]   Package stopwords is already up-to-date!\n"
     ]
    },
    {
     "data": {
      "text/plain": [
       "True"
      ]
     },
     "execution_count": 13,
     "metadata": {},
     "output_type": "execute_result"
    }
   ],
   "source": [
    "#importing nltk libraries\n",
    "import nltk\n",
    "from nltk.corpus import stopwords\n",
    "nltk.download('stopwords')"
   ]
  },
  {
   "cell_type": "code",
   "execution_count": 14,
   "id": "6ee3221a-0acc-421b-b8d1-21bd8f8d5841",
   "metadata": {},
   "outputs": [
    {
     "data": {
      "text/html": [
       "<div>\n",
       "<style scoped>\n",
       "    .dataframe tbody tr th:only-of-type {\n",
       "        vertical-align: middle;\n",
       "    }\n",
       "\n",
       "    .dataframe tbody tr th {\n",
       "        vertical-align: top;\n",
       "    }\n",
       "\n",
       "    .dataframe thead th {\n",
       "        text-align: right;\n",
       "    }\n",
       "</style>\n",
       "<table border=\"1\" class=\"dataframe\">\n",
       "  <thead>\n",
       "    <tr style=\"text-align: right;\">\n",
       "      <th></th>\n",
       "      <th>synopsis</th>\n",
       "      <th>genrelist</th>\n",
       "      <th>cleaned_syn</th>\n",
       "    </tr>\n",
       "  </thead>\n",
       "  <tbody>\n",
       "    <tr>\n",
       "      <th>0</th>\n",
       "      <td>Following their participation at the Inter-Hig...</td>\n",
       "      <td>[Comedy, Sports, Drama, School, Shounen]</td>\n",
       "      <td>following participation inter high karasuno hi...</td>\n",
       "    </tr>\n",
       "    <tr>\n",
       "      <th>1</th>\n",
       "      <td>Music accompanies the path of the human metron...</td>\n",
       "      <td>[Drama, Music, Romance, School, Shounen]</td>\n",
       "      <td>music accompanies path human metronome prodigi...</td>\n",
       "    </tr>\n",
       "    <tr>\n",
       "      <th>2</th>\n",
       "      <td>The Abyss—a gaping chasm stretching down into ...</td>\n",
       "      <td>[Sci-Fi, Adventure, Mystery, Drama, Fantasy]</td>\n",
       "      <td>abyss gaping chasm stretching depths earth fil...</td>\n",
       "    </tr>\n",
       "    <tr>\n",
       "      <th>3</th>\n",
       "      <td>\"In order for something to be obtained, someth...</td>\n",
       "      <td>[Action, Military, Adventure, Comedy, Drama, M...</td>\n",
       "      <td>order something obtained something equal value...</td>\n",
       "    </tr>\n",
       "    <tr>\n",
       "      <th>4</th>\n",
       "      <td>After helping revive the legendary vampire Kis...</td>\n",
       "      <td>[Action, Mystery, Supernatural, Vampire]</td>\n",
       "      <td>helping revive legendary vampire kiss shot ace...</td>\n",
       "    </tr>\n",
       "    <tr>\n",
       "      <th>...</th>\n",
       "      <td>...</td>\n",
       "      <td>...</td>\n",
       "      <td>...</td>\n",
       "    </tr>\n",
       "    <tr>\n",
       "      <th>19002</th>\n",
       "      <td>All-new animation offered throughout UNIQLO cl...</td>\n",
       "      <td>[Action, Comedy, Super Power, Martial Arts, Sh...</td>\n",
       "      <td>new animation offered throughout uniqlo clothi...</td>\n",
       "    </tr>\n",
       "    <tr>\n",
       "      <th>19003</th>\n",
       "      <td>High school student Sora Kashiwagi is accustom...</td>\n",
       "      <td>[Slice of Life, Comedy, Supernatural]</td>\n",
       "      <td>high school student sora kashiwagi accustomed ...</td>\n",
       "    </tr>\n",
       "    <tr>\n",
       "      <th>19004</th>\n",
       "      <td>After regaining her squid-like abilities, Ika ...</td>\n",
       "      <td>[Slice of Life, Comedy, Shounen]</td>\n",
       "      <td>regaining squid like abilities ika musume plan...</td>\n",
       "    </tr>\n",
       "    <tr>\n",
       "      <th>19005</th>\n",
       "      <td>For years, the Niflheim Empire and the kingdom...</td>\n",
       "      <td>[Action]</td>\n",
       "      <td>years niflheim empire kingdom lucis war empire...</td>\n",
       "    </tr>\n",
       "    <tr>\n",
       "      <th>19006</th>\n",
       "      <td>Although Yuuta Togashi and Rikka Takanashi hav...</td>\n",
       "      <td>[Comedy, Drama, Romance, School, Slice of Life]</td>\n",
       "      <td>although yuuta togashi rikka takanashi started...</td>\n",
       "    </tr>\n",
       "  </tbody>\n",
       "</table>\n",
       "<p>15191 rows × 3 columns</p>\n",
       "</div>"
      ],
      "text/plain": [
       "                                                synopsis  \\\n",
       "0      Following their participation at the Inter-Hig...   \n",
       "1      Music accompanies the path of the human metron...   \n",
       "2      The Abyss—a gaping chasm stretching down into ...   \n",
       "3      \"In order for something to be obtained, someth...   \n",
       "4      After helping revive the legendary vampire Kis...   \n",
       "...                                                  ...   \n",
       "19002  All-new animation offered throughout UNIQLO cl...   \n",
       "19003  High school student Sora Kashiwagi is accustom...   \n",
       "19004  After regaining her squid-like abilities, Ika ...   \n",
       "19005  For years, the Niflheim Empire and the kingdom...   \n",
       "19006  Although Yuuta Togashi and Rikka Takanashi hav...   \n",
       "\n",
       "                                               genrelist  \\\n",
       "0               [Comedy, Sports, Drama, School, Shounen]   \n",
       "1               [Drama, Music, Romance, School, Shounen]   \n",
       "2           [Sci-Fi, Adventure, Mystery, Drama, Fantasy]   \n",
       "3      [Action, Military, Adventure, Comedy, Drama, M...   \n",
       "4               [Action, Mystery, Supernatural, Vampire]   \n",
       "...                                                  ...   \n",
       "19002  [Action, Comedy, Super Power, Martial Arts, Sh...   \n",
       "19003              [Slice of Life, Comedy, Supernatural]   \n",
       "19004                   [Slice of Life, Comedy, Shounen]   \n",
       "19005                                           [Action]   \n",
       "19006    [Comedy, Drama, Romance, School, Slice of Life]   \n",
       "\n",
       "                                             cleaned_syn  \n",
       "0      following participation inter high karasuno hi...  \n",
       "1      music accompanies path human metronome prodigi...  \n",
       "2      abyss gaping chasm stretching depths earth fil...  \n",
       "3      order something obtained something equal value...  \n",
       "4      helping revive legendary vampire kiss shot ace...  \n",
       "...                                                  ...  \n",
       "19002  new animation offered throughout uniqlo clothi...  \n",
       "19003  high school student sora kashiwagi accustomed ...  \n",
       "19004  regaining squid like abilities ika musume plan...  \n",
       "19005  years niflheim empire kingdom lucis war empire...  \n",
       "19006  although yuuta togashi rikka takanashi started...  \n",
       "\n",
       "[15191 rows x 3 columns]"
      ]
     },
     "execution_count": 14,
     "metadata": {},
     "output_type": "execute_result"
    }
   ],
   "source": [
    "### Python Script to remove stopwords\n",
    "stop_words = set(stopwords.words('english'))\n",
    "stop_words.add('source')\n",
    "words = defaultdict(lambda: 0)\n",
    "def rem_stop(text):\n",
    "    for i in text.split():\n",
    "        new_text = []\n",
    "        if i not in stop_words:\n",
    "            new_text.append(i)\n",
    "            words[i] += 1\n",
    "    new_text = [i for i in text.split() if not i in stop_words]\n",
    "    return ' '.join(new_text)\n",
    "\n",
    "df.loc[:, 'cleaned_syn'] = df.loc[:, 'cleaned_syn'].apply(rem_stop)\n",
    "df"
   ]
  },
  {
   "cell_type": "code",
   "execution_count": 15,
   "id": "ee760ff6-b557-4154-8259-2d17617f8138",
   "metadata": {},
   "outputs": [],
   "source": [
    "tmp = sorted(words, key = lambda x: words[x], reverse = True)"
   ]
  },
  {
   "cell_type": "code",
   "execution_count": 16,
   "id": "5551d37c-0b8c-4418-8b9f-17ea86f11859",
   "metadata": {},
   "outputs": [
    {
     "name": "stdout",
     "output_type": "stream",
     "text": [
      "570815\n"
     ]
    }
   ],
   "source": [
    "#total words\n",
    "values = []\n",
    "for i in tmp:\n",
    "    values.append(words[i])\n",
    "print(sum(values))"
   ]
  },
  {
   "cell_type": "code",
   "execution_count": 17,
   "id": "bdf7921b-1025-4689-9570-3f6760e10ca6",
   "metadata": {},
   "outputs": [
    {
     "data": {
      "text/plain": [
       "<Axes: >"
      ]
     },
     "execution_count": 17,
     "metadata": {},
     "output_type": "execute_result"
    },
    {
     "data": {
      "image/png": "[encoded data removed]",
      "text/plain": [
       "<Figure size 1200x600 with 1 Axes>"
      ]
     },
     "metadata": {},
     "output_type": "display_data"
    }
   ],
   "source": [
    "sns.barplot(x=values[:20], y=tmp[:20])"
   ]
  },
  {
   "cell_type": "code",
   "execution_count": 18,
   "id": "e274da8b",
   "metadata": {},
   "outputs": [
    {
     "name": "stdout",
     "output_type": "stream",
     "text": [
      "Accuracy: 0.1020\n",
      "Precision: 0.4826\n",
      "Recall: 0.5540\n",
      "F1 Score: 0.5159\n",
      "\n",
      "Accuracy: 0.0984\n",
      "Precision: 0.4928\n",
      "Recall: 0.5561\n",
      "F1 Score: 0.5225\n",
      "\n",
      "Accuracy: 0.1017\n",
      "Precision: 0.4858\n",
      "Recall: 0.5563\n",
      "F1 Score: 0.5187\n",
      "\n",
      "Accuracy: 0.1060\n",
      "Precision: 0.4993\n",
      "Recall: 0.5673\n",
      "F1 Score: 0.5311\n",
      "\n",
      "Accuracy: 0.1171\n",
      "Precision: 0.4829\n",
      "Recall: 0.5665\n",
      "F1 Score: 0.5213\n",
      "\n"
     ]
    }
   ],
   "source": [
    "from sklearn.preprocessing import MultiLabelBinarizer\n",
    "from sklearn.model_selection import train_test_split\n",
    "from sklearn.feature_extraction.text import TfidfVectorizer\n",
    "from sklearn.linear_model import LogisticRegression\n",
    "from sklearn.multiclass import OneVsRestClassifier\n",
    "from sklearn.metrics import accuracy_score, precision_score, recall_score, f1_score\n",
    "\n",
    "for _ in range(5):\n",
    "    # Assuming df['genrelist'] contains the multi-label genre information\n",
    "    multilabel_binarizer = MultiLabelBinarizer()\n",
    "    multilabel_binarizer.fit(df['genrelist'])\n",
    "    y = multilabel_binarizer.transform(df['genrelist'])\n",
    "\n",
    "    # Split the data into training and testing sets\n",
    "    xtrain, xtest, ytrain, ytest = train_test_split(df['cleaned_syn'], y, test_size=0.2)\n",
    "\n",
    "    # Initialize and fit the TF-IDF vectorizer\n",
    "    tfidf_vectorizer = TfidfVectorizer(max_df=0.8, max_features=10000)\n",
    "    xtrain_tfidf = tfidf_vectorizer.fit_transform(xtrain)\n",
    "    xtest_tfidf = tfidf_vectorizer.transform(xtest)\n",
    "\n",
    "    # Initialize and train the Logistic Regression classifier\n",
    "    model = LogisticRegression()\n",
    "    classif = OneVsRestClassifier(model)\n",
    "    classif.fit(xtrain_tfidf, ytrain)\n",
    "\n",
    "    # Predict on the test set\n",
    "    y_pred = classif.predict(xtest_tfidf)\n",
    "    y_pred_prob = classif.predict_proba(xtest_tfidf)\n",
    "    y_pred_new = (y_pred_prob >= 0.20).astype(int)\n",
    "\n",
    "    # Calculate evaluation metrics\n",
    "    accuracy = accuracy_score(ytest, y_pred)\n",
    "    precision = precision_score(ytest, y_pred_new, average='micro')\n",
    "    recall = recall_score(ytest, y_pred_new, average='micro')\n",
    "    f1 = f1_score(ytest, y_pred_new, average='micro')\n",
    "\n",
    "    print(f\"Accuracy: {accuracy:.4f}\")\n",
    "    print(f\"Precision: {precision:.4f}\")\n",
    "    print(f\"Recall: {recall:.4f}\")\n",
    "    print(f\"F1 Score: {f1:.4f}\\n\")\n"
   ]
  },
  {
   "cell_type": "code",
   "execution_count": null,
   "id": "96ea0d8e-fafc-4088-9983-930e58b70279",
   "metadata": {},
   "outputs": [],
   "source": []
  }
 ],
 "metadata": {
  "kernelspec": {
   "display_name": "Python 3 (ipykernel)",
   "language": "python",
   "name": "python3"
  },
  "language_info": {
   "codemirror_mode": {
    "name": "ipython",
    "version": 3
   },
   "file_extension": ".py",
   "mimetype": "text/x-python",
   "name": "python",
   "nbconvert_exporter": "python",
   "pygments_lexer": "ipython3",
   "version": "3.11.5"
  }
 },
 "nbformat": 4,
 "nbformat_minor": 5
}
